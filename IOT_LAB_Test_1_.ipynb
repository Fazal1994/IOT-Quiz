{
  "nbformat": 4,
  "nbformat_minor": 0,
  "metadata": {
    "colab": {
      "name": "IOT LAB Test 1 .ipynb",
      "provenance": []
    },
    "kernelspec": {
      "name": "python3",
      "display_name": "Python 3"
    },
    "language_info": {
      "name": "python"
    }
  },
  "cells": [
    {
      "cell_type": "code",
      "execution_count": null,
      "metadata": {
        "colab": {
          "base_uri": "https://localhost:8080/"
        },
        "id": "X90CvkF0cQQi",
        "outputId": "5a84e245-43b0-4ac7-9ca0-4035ce744bce"
      },
      "outputs": [
        {
          "output_type": "stream",
          "name": "stdout",
          "text": [
            "1\n",
            "3\n",
            "5\n",
            "7\n",
            "9\n"
          ]
        }
      ],
      "source": [
        "#Q.1: Python program to print all odd numbers in a list.\n",
        "numbers = [1,2,3,4,5,6,7,8,9]\n",
        "for num in numbers:\n",
        "  if num % 2!=0:\n",
        "    print(num)\n",
        "\n",
        "\n"
      ]
    },
    {
      "cell_type": "code",
      "source": [
        "#Q.2:Python program to find the sum of list elements.\n",
        "a = []\n",
        "num=int(input(\"numbers: \"))\n",
        "for n in range(num):\n",
        "  numbers=int(input(\"Enter Numbers: \"))\n",
        "  a.append(numbers)\n",
        "print(\"sum of numbers: \",sum(a)) "
      ],
      "metadata": {
        "id": "NPNgSJ26tK1T",
        "colab": {
          "base_uri": "https://localhost:8080/"
        },
        "outputId": "d31fe57f-39bf-411d-a255-d7e50152b6a7"
      },
      "execution_count": null,
      "outputs": [
        {
          "output_type": "stream",
          "name": "stdout",
          "text": [
            "numbers: 2\n",
            "Enter Numbers: 4\n",
            "Enter Numbers: 6\n",
            "sum of numbers:  10\n"
          ]
        }
      ]
    },
    {
      "cell_type": "code",
      "source": [
        "#Q.3:Python program to reverse a list in two ways.\n",
        "num = [1,2,3,4,5,6,7,8]\n",
        "num.reverse()\n",
        "print(num)\n",
        "print(\"Reversed;\",num[ : :-1])\n"
      ],
      "metadata": {
        "id": "sMKRnywOwV89",
        "colab": {
          "base_uri": "https://localhost:8080/"
        },
        "outputId": "0d66b467-774b-4272-86d9-efcc920c8c24"
      },
      "execution_count": null,
      "outputs": [
        {
          "output_type": "stream",
          "name": "stdout",
          "text": [
            "[8, 7, 6, 5, 4, 3, 2, 1]\n",
            "Reversed; [1, 2, 3, 4, 5, 6, 7, 8]\n"
          ]
        }
      ]
    },
    {
      "cell_type": "code",
      "source": [
        "#Q.4:Python program to find the top two maximum numbers in a list.\n",
        "num = [1,2,3,4,5]\n",
        "num.sort()\n",
        "print('First highest number is = ',num[-1])\n",
        "print('Second highest number is = ',num[-2])\n",
        "\n"
      ],
      "metadata": {
        "id": "lQrVL0Eyyuwy",
        "colab": {
          "base_uri": "https://localhost:8080/"
        },
        "outputId": "1de09b55-3074-4988-a6e3-03487803c61b"
      },
      "execution_count": null,
      "outputs": [
        {
          "output_type": "stream",
          "name": "stdout",
          "text": [
            "First highest number is =  5\n",
            "Second highest number is =  4\n"
          ]
        }
      ]
    },
    {
      "cell_type": "code",
      "source": [
        "#Q.5:Write a program in python to find the second highest number in am integer list.\n",
        "num = [1,2,3,4,5]\n",
        "num.sort()\n",
        "print('Second highest number is = ',num[-2])"
      ],
      "metadata": {
        "colab": {
          "base_uri": "https://localhost:8080/"
        },
        "id": "HCX9YrJk2-oF",
        "outputId": "730b7876-81c0-4a35-dd38-eef3530431bb"
      },
      "execution_count": null,
      "outputs": [
        {
          "output_type": "stream",
          "name": "stdout",
          "text": [
            "Second highest number is =  4\n"
          ]
        }
      ]
    },
    {
      "cell_type": "code",
      "source": [
        "#Q.6:Python program to sort characters in decending order.\n",
        "alp = [\"a\",'b','c']\n",
        "alp.sort(reverse = True)\n",
        "print(alp)"
      ],
      "metadata": {
        "colab": {
          "base_uri": "https://localhost:8080/"
        },
        "id": "0pp_b0J035n0",
        "outputId": "87bc1fbc-93c2-4613-895f-9fe7a769f6de"
      },
      "execution_count": null,
      "outputs": [
        {
          "output_type": "stream",
          "name": "stdout",
          "text": [
            "['c', 'b', 'a']\n"
          ]
        }
      ]
    },
    {
      "cell_type": "code",
      "source": [
        "#Q.7:Python program to remove repeated characters from a string.\n",
        "a = \"fazal\"\n",
        "b = \" \"\n",
        "for char in a:\n",
        "  if char not in b:\n",
        "    b=b+char\n",
        "print(b)"
      ],
      "metadata": {
        "colab": {
          "base_uri": "https://localhost:8080/"
        },
        "id": "8Ck5B7Fw54uQ",
        "outputId": "840985ae-1290-4eb0-a070-f374aaaa36c6"
      },
      "execution_count": null,
      "outputs": [
        {
          "output_type": "stream",
          "name": "stdout",
          "text": [
            " fazl\n"
          ]
        }
      ]
    },
    {
      "cell_type": "code",
      "source": [
        "#Q.8: Python program to check if a given character is a vowel or consonant.\n",
        "input1 = input(\"Enter any alphabet = \")\n",
        "if input1 in (\"a\",\"e\",\"i\",\"o\",\"u\"):\n",
        "  print(input1,\"is a vowel\")\n",
        "else:\n",
        "  print(input1,\"is a Consonent\") \n"
      ],
      "metadata": {
        "colab": {
          "base_uri": "https://localhost:8080/"
        },
        "id": "xwicr41I6ae4",
        "outputId": "c835cbd0-7610-483b-cf53-e7bac1415aa5"
      },
      "execution_count": null,
      "outputs": [
        {
          "output_type": "stream",
          "name": "stdout",
          "text": [
            "Enter any alphabet = a\n",
            "a is a vowel\n"
          ]
        }
      ]
    },
    {
      "cell_type": "code",
      "source": [
        "#Q.9: Python program to calculate factorial.\n",
        "number = int(input(\"Enter a number: \"))\n",
        "factorial = 1\n",
        "if number < 0:\n",
        "   print(\"Sorry, factorial does not exist for negative numbers\")\n",
        "elif number == 0:\n",
        "   print(\"The factorial of 0 is 1\")\n",
        "else:\n",
        "   for i in range(1,number + 1):\n",
        "       factorial = factorial*i\n",
        "   print(\"The factorial of\",number,\"is\",factorial)"
      ],
      "metadata": {
        "id": "oFto5YnB7Yst",
        "colab": {
          "base_uri": "https://localhost:8080/"
        },
        "outputId": "7ca0a30a-8601-4c30-f1e2-737648363905"
      },
      "execution_count": 8,
      "outputs": [
        {
          "output_type": "stream",
          "name": "stdout",
          "text": [
            "Enter a number: 5\n",
            "The factorial of 5 is 120\n"
          ]
        }
      ]
    },
    {
      "cell_type": "code",
      "source": [
        "#Q.10: Python program to merge two lists.\n",
        "a = [1,2,3]    \n",
        "b = ['a','b','c']\n",
        "merge_list = a + b\n",
        "print(merge_list)"
      ],
      "metadata": {
        "colab": {
          "base_uri": "https://localhost:8080/"
        },
        "id": "BEjL8TveEZKI",
        "outputId": "e802985c-bed0-4330-b157-57dc1677e93f"
      },
      "execution_count": 5,
      "outputs": [
        {
          "output_type": "stream",
          "name": "stdout",
          "text": [
            "[1, 2, 3, 'a', 'b', 'c']\n"
          ]
        }
      ]
    }
  ]
}